{
  "nbformat": 4,
  "nbformat_minor": 0,
  "metadata": {
    "colab": {
      "provenance": []
    },
    "kernelspec": {
      "name": "python3",
      "display_name": "Python 3"
    },
    "language_info": {
      "name": "python"
    }
  },
  "cells": [
    {
      "cell_type": "markdown",
      "source": [
        "1. Файл `minutes_n_ingredients.csv` содержит информацию об идентификаторе рецепта, времени его выполнения в минутах и количестве необходимых ингредиентов. Считайте данные из этого файла в виде массива `numpy` типа `int32`, используя `np.loadtxt`. Выведите на экран первые 5 строк массива."
      ],
      "metadata": {
        "id": "_CWe78x6abfB"
      }
    },
    {
      "cell_type": "code",
      "execution_count": null,
      "metadata": {
        "id": "ZaF9Lxbf26S6",
        "colab": {
          "base_uri": "https://localhost:8080/"
        },
        "outputId": "f374b09e-d77d-4ab0-c086-ed83de404043"
      },
      "outputs": [
        {
          "output_type": "stream",
          "name": "stdout",
          "text": [
            "[[127244     60     16]\n",
            " [ 23891     25      7]\n",
            " [ 94746     10      6]\n",
            " [ 67660      5      6]\n",
            " [157911     60     14]]\n"
          ]
        }
      ],
      "source": [
        "import numpy as np\n",
        "array_1 = np.loadtxt('/content/minutes_n_ingredients.csv',dtype='int32',delimiter=';',skiprows=1)\n",
        "print(array_1[:5])"
      ]
    },
    {
      "cell_type": "markdown",
      "source": [
        "2. Вычислите среднее значение, минимум, максимум и медиану по каждому из столбцов, кроме первого."
      ],
      "metadata": {
        "id": "BAkemADaaqsh"
      }
    },
    {
      "cell_type": "code",
      "source": [
        "print('min: ',np.min(array_1[:,1:3], axis=0))\n",
        "print('max: ',np.max(array_1[:,1:3], axis=0))\n",
        "print('avarage: ',np.mean(array_1[:,1:3], axis=0))\n",
        "print('med: ',np.median(array_1[:,1:3], axis=0))"
      ],
      "metadata": {
        "colab": {
          "base_uri": "https://localhost:8080/"
        },
        "id": "O-DhFklMHTYC",
        "outputId": "64c1579e-e521-4886-903e-0724ec6455e6"
      },
      "execution_count": null,
      "outputs": [
        {
          "output_type": "stream",
          "name": "stdout",
          "text": [
            "min:  [0 1]\n",
            "max:  [2147483647         39]\n",
            "avarage:  [2.16010017e+04 9.05528000e+00]\n",
            "med:  [40.  9.]\n"
          ]
        }
      ]
    },
    {
      "cell_type": "markdown",
      "source": [
        "3. Ограничьте сверху значения продолжительности выполнения рецепта значением квантиля $q_{0.75}$. "
      ],
      "metadata": {
        "id": "ZYVWuDXTiH_0"
      }
    },
    {
      "cell_type": "code",
      "source": [
        "res = array_1[:,1:2]\n",
        "print(np.quantile(res, 0.75, axis = 0)) # Вычисляем значение квантиля\n",
        "q = np.quantile(array_1[:, 1], 0.75)\n",
        "array_1[:, 1] = np.clip(array_1[:, 1], a_min=0, a_max=q) # Ограничеваем элементы массива снизу нулем, сверху, квантилем\n",
        "print(array_1[:30]) "
      ],
      "metadata": {
        "id": "YYJA2gQ-JFvC",
        "colab": {
          "base_uri": "https://localhost:8080/"
        },
        "outputId": "c1b72d0f-23aa-49cb-8e4d-5575e3030b18"
      },
      "execution_count": null,
      "outputs": [
        {
          "output_type": "stream",
          "name": "stdout",
          "text": [
            "[65.]\n",
            "[[127244     60     16]\n",
            " [ 23891     25      7]\n",
            " [ 94746     10      6]\n",
            " [ 67660      5      6]\n",
            " [157911     60     14]\n",
            " [152828     40      7]\n",
            " [ 33941     18      9]\n",
            " [446597     15      5]\n",
            " [366174      7      9]\n",
            " [ 74205     20      7]\n",
            " [504666     65     20]\n",
            " [ 81006     12      7]\n",
            " [280968     65     11]\n",
            " [204134      5      3]\n",
            " [ 18593     35      7]\n",
            " [ 25623      6      4]\n",
            " [ 65559     24     14]\n",
            " [ 99836     65      7]\n",
            " [ 87775     65     13]\n",
            " [425704     40     12]\n",
            " [101799     10      8]\n",
            " [106325     65     11]\n",
            " [ 99283     65      6]\n",
            " [179504     65     11]\n",
            " [276123     60      7]\n",
            " [498382     65     18]\n",
            " [197140     40      6]\n",
            " [484223     18      4]\n",
            " [385472     65      9]\n",
            " [ 63150     65      4]]\n"
          ]
        }
      ]
    },
    {
      "cell_type": "markdown",
      "source": [
        "4. Посчитайте, для скольких рецептов указана продолжительность, равная нулю. Замените для таких строк значение в данном столбце на 1."
      ],
      "metadata": {
        "id": "AT3uReogikJq"
      }
    },
    {
      "cell_type": "code",
      "source": [
        "from google.colab import drive\n",
        "drive.mount('/content/drive')"
      ],
      "metadata": {
        "colab": {
          "base_uri": "https://localhost:8080/"
        },
        "id": "iF4ZCHHnFAxL",
        "outputId": "20f49879-f333-4b2c-be03-3f2baa6ac81c"
      },
      "execution_count": null,
      "outputs": [
        {
          "output_type": "stream",
          "name": "stdout",
          "text": [
            "Drive already mounted at /content/drive; to attempt to forcibly remount, call drive.mount(\"/content/drive\", force_remount=True).\n"
          ]
        }
      ]
    },
    {
      "cell_type": "code",
      "source": [
        "res = array_1[:,1:2]\n",
        "np.place(res, res==0,[1])\n",
        "print(res[411])\n",
        "print(res)"
      ],
      "metadata": {
        "id": "8zNQLj6ZLXjd",
        "colab": {
          "base_uri": "https://localhost:8080/"
        },
        "outputId": "c34f4b13-aa65-4bcc-cc78-cbce3b60066b"
      },
      "execution_count": null,
      "outputs": [
        {
          "output_type": "stream",
          "name": "stdout",
          "text": [
            "[1]\n",
            "[[ 60]\n",
            " [ 25]\n",
            " [ 10]\n",
            " ...\n",
            " [ 65]\n",
            " [  5]\n",
            " [140]]\n"
          ]
        }
      ]
    },
    {
      "cell_type": "markdown",
      "source": [
        "5. Посчитайте, сколько уникальных рецептов находится в датасете."
      ],
      "metadata": {
        "id": "NtDkrJRKkF1Y"
      }
    },
    {
      "cell_type": "code",
      "source": [
        "# print(np.unique(array_1[:, 1:3]))\n",
        "print(len(np.unique(array_1[:,1:3])))"
      ],
      "metadata": {
        "colab": {
          "base_uri": "https://localhost:8080/"
        },
        "id": "2IqyleuQKS-Q",
        "outputId": "9d673259-13cd-404a-ce3d-842d8a2d97be"
      },
      "execution_count": null,
      "outputs": [
        {
          "output_type": "stream",
          "name": "stdout",
          "text": [
            "655\n"
          ]
        }
      ]
    },
    {
      "cell_type": "markdown",
      "source": [
        "6. Сколько и каких различных значений кол-ва ингредиентов присутвует в рецептах из датасета?"
      ],
      "metadata": {
        "id": "VMKmfEelkUHp"
      }
    },
    {
      "cell_type": "code",
      "source": [
        "uniq, count = np.unique(array_1[:,2], return_counts=True) # аргумент return_counts возвращает количество раз, сколько данный элемент встретился в массиве\n",
        "print('Количество уникальных ингридиентов:',len(uniq))\n",
        "print(dict(zip(count, uniq)))"
      ],
      "metadata": {
        "colab": {
          "base_uri": "https://localhost:8080/"
        },
        "id": "KawkTR16aNdh",
        "outputId": "26995a63-199f-4745-8f76-9b109273a798"
      },
      "execution_count": null,
      "outputs": [
        {
          "output_type": "stream",
          "name": "stdout",
          "text": [
            "Количество уникальных ингридиентов: 37\n",
            "{13: 1, 926: 2, 2895: 3, 5515: 4, 7913: 5, 9376: 6, 10628: 7, 10951: 8, 10585: 9, 9591: 10, 8297: 11, 6605: 12, 4997: 13, 3663: 14, 2595: 15, 1767: 16, 1246: 17, 790: 18, 573: 19, 376: 20, 217: 21, 161: 22, 105: 23, 69: 24, 50: 25, 28: 26, 16: 28, 12: 30, 3: 35, 1: 39, 2: 33}\n"
          ]
        }
      ]
    },
    {
      "cell_type": "markdown",
      "source": [
        "7. Создайте версию массива, содержащую информацию только о рецептах, состоящих не более чем из 5 ингредиентов.\n"
      ],
      "metadata": {
        "id": "_sMythMwky5Q"
      }
    },
    {
      "cell_type": "code",
      "source": [
        "res = array_1[array_1[:,2]<=5]\n",
        "print(res)"
      ],
      "metadata": {
        "id": "gH7fC-gqLYSN",
        "outputId": "ad126a68-b2ca-4fb8-fb92-aa1f2189b18c",
        "colab": {
          "base_uri": "https://localhost:8080/"
        }
      },
      "execution_count": null,
      "outputs": [
        {
          "output_type": "stream",
          "name": "stdout",
          "text": [
            "[[446597     15      5]\n",
            " [204134      5      3]\n",
            " [ 25623      6      4]\n",
            " ...\n",
            " [ 52088     60      5]\n",
            " [128811     15      4]\n",
            " [370915      5      4]]\n"
          ]
        }
      ]
    },
    {
      "cell_type": "markdown",
      "source": [
        "8. Для каждого рецепта посчитайте, сколько в среднем ингредиентов приходится на одну минуту рецепта. Найдите максимальное значение этой величины для всего датасета"
      ],
      "metadata": {
        "id": "ceIxlKQnmKP8"
      }
    },
    {
      "cell_type": "code",
      "source": [
        "sr_ingr = np.max(array_1[:,2]//array_1[:,1])\n",
        "print(sr_ingr)"
      ],
      "metadata": {
        "colab": {
          "base_uri": "https://localhost:8080/"
        },
        "id": "aoJYKKAcaQi3",
        "outputId": "649646f8-6458-4885-98c9-62b2c5d5ec2c"
      },
      "execution_count": null,
      "outputs": [
        {
          "output_type": "stream",
          "name": "stdout",
          "text": [
            "24\n"
          ]
        }
      ]
    },
    {
      "cell_type": "markdown",
      "source": [
        "9. Вычислите среднее количество ингредиентов для топ-100 рецептов с наибольшей продолжительностью"
      ],
      "metadata": {
        "id": "3OicHWc7md3-"
      }
    },
    {
      "cell_type": "code",
      "source": [
        "print(np.mean(array_1[np.argsort(array_1[:,1])][-100:, 2]))"
      ],
      "metadata": {
        "colab": {
          "base_uri": "https://localhost:8080/"
        },
        "id": "UevhS9FOadu9",
        "outputId": "94cb3d4e-7092-4b31-b99b-32a513f60c42"
      },
      "execution_count": null,
      "outputs": [
        {
          "output_type": "stream",
          "name": "stdout",
          "text": [
            "6.61\n"
          ]
        }
      ]
    },
    {
      "cell_type": "markdown",
      "source": [
        "10. Выберите случайным образом и выведите информацию о 10 различных рецептах"
      ],
      "metadata": {
        "id": "Ti59-sYimnvv"
      }
    },
    {
      "cell_type": "code",
      "source": [
        "k = 10\n",
        "index = np.random.choice(array_1.shape[0],k,replace=False) # параметр replace дает выбрать только уникальные элементы\n",
        "print(array_1[index])"
      ],
      "metadata": {
        "colab": {
          "base_uri": "https://localhost:8080/"
        },
        "id": "kwQGn6msagdt",
        "outputId": "791024df-5744-4496-a9fc-75bc81cd9891"
      },
      "execution_count": null,
      "outputs": [
        {
          "output_type": "stream",
          "name": "stdout",
          "text": [
            "[[ 68166     20      9]\n",
            " [334969     50     13]\n",
            " [269911     60      4]\n",
            " [ 16744      1      5]\n",
            " [344260     50     13]\n",
            " [ 86577     65      6]\n",
            " [  9817     65      7]\n",
            " [119153     65      8]\n",
            " [146514     10      8]\n",
            " [ 29750     65     17]]\n"
          ]
        }
      ]
    },
    {
      "cell_type": "markdown",
      "source": [
        "11. Выведите процент рецептов, кол-во ингредиентов в которых меньше среднего."
      ],
      "metadata": {
        "id": "OoTlSJlom0OQ"
      }
    },
    {
      "cell_type": "code",
      "source": [
        "print(f'{array_1[array_1[:,2] < np.mean(array_1[:,2])].shape[0]/array_1.shape[0]*100} %')"
      ],
      "metadata": {
        "colab": {
          "base_uri": "https://localhost:8080/"
        },
        "id": "rWHaM7eYbAk5",
        "outputId": "cb94125a-eaf4-47b3-b576-4f2d76d2e9d4"
      },
      "execution_count": null,
      "outputs": [
        {
          "output_type": "stream",
          "name": "stdout",
          "text": [
            "58.802 %\n"
          ]
        }
      ]
    },
    {
      "cell_type": "markdown",
      "source": [
        "12. Назовем \"простым\" такой рецепт, длительность выполнения которого не больше 20 минут и кол-во ингредиентов в котором не больше 5. Создайте версию датасета с дополнительным столбцом, значениями которого являются 1, если рецепт простой, и 0 в противном случае."
      ],
      "metadata": {
        "id": "aiwwrzFRnKqQ"
      }
    },
    {
      "cell_type": "code",
      "source": [
        "easy_hard = np.c_[array_1, (array_1[:,1]<20) & (array_1[:,2]<5)]\n",
        "print(easy_hard)"
      ],
      "metadata": {
        "colab": {
          "base_uri": "https://localhost:8080/"
        },
        "id": "BVl7OwN9bAUJ",
        "outputId": "a04231ef-435e-4838-b856-a99140669860"
      },
      "execution_count": null,
      "outputs": [
        {
          "output_type": "stream",
          "name": "stdout",
          "text": [
            "[[127244     60     16      0]\n",
            " [ 23891     25      7      0]\n",
            " [ 94746     10      6      0]\n",
            " ...\n",
            " [498432     65     15      0]\n",
            " [370915      5      4      1]\n",
            " [ 81993     65     14      0]]\n"
          ]
        }
      ]
    },
    {
      "cell_type": "markdown",
      "source": [
        "13. Выведите процент \"простых\" рецептов в датасете"
      ],
      "metadata": {
        "id": "TGocRAF3ndI1"
      }
    },
    {
      "cell_type": "code",
      "source": [
        "easy_hard = np.c_[array_1,(array_1[:,1]<20) & (array_1[:,2]<5)]\n",
        "easy = easy_hard[easy_hard[:,3] == 1].shape[0]\n",
        "hard = easy_hard.shape[0]\n",
        "print(f'{easy*100/hard} %')"
      ],
      "metadata": {
        "id": "mhWKAgv8bA3r",
        "colab": {
          "base_uri": "https://localhost:8080/"
        },
        "outputId": "ee464e60-9efc-4571-b68d-b99574f8cde4"
      },
      "execution_count": null,
      "outputs": [
        {
          "output_type": "stream",
          "name": "stdout",
          "text": [
            "5.093 %\n"
          ]
        }
      ]
    },
    {
      "cell_type": "markdown",
      "source": [
        "14. Разделим рецепты на группы по следующему правилу. Назовем рецепты короткими, если их продолжительность составляет менее 10 минут; стандартными, если их продолжительность составляет более 10, но менее 20 минут; и длинными, если их продолжительность составляет не менее 20 минут. Создайте трехмерный массив, где нулевая ось отвечает за номер группы (короткий, стандартный или длинный рецепт), первая ось - за сам рецепт и вторая ось - за характеристики рецепта. Выберите максимальное количество рецептов из каждой группы таким образом, чтобы было возможно сформировать трехмерный массив. Выведите форму полученного массива."
      ],
      "metadata": {
        "id": "FalK8zdMn5Fg"
      }
    },
    {
      "cell_type": "code",
      "source": [
        "short = array_1[array_1[:,1]<10]\n",
        "medium = array_1[(array_1[:,1]>=10) & (array_1[:,1]<20)]\n",
        "lng = array_1[array_1[:,1]>=20]\n",
        "d_f = np.min([short.shape[0], medium.shape[0], lng.shape[0]])\n",
        "res = np.array([short[:d_f], medium[:d_f], lng[:d_f]])\n",
        "print(res.shape)\n",
        "print(res)"
      ],
      "metadata": {
        "colab": {
          "base_uri": "https://localhost:8080/"
        },
        "id": "U-GAebzbbBEa",
        "outputId": "75b72194-aaab-4d3b-df39-a70b7b277e75"
      },
      "execution_count": null,
      "outputs": [
        {
          "output_type": "stream",
          "name": "stdout",
          "text": [
            "(3, 7588, 3)\n",
            "[[[ 67660      5      6]\n",
            "  [366174      7      9]\n",
            "  [204134      5      3]\n",
            "  ...\n",
            "  [420725      5      3]\n",
            "  [  4747      1      9]\n",
            "  [370915      5      4]]\n",
            "\n",
            " [[ 94746     10      6]\n",
            "  [ 33941     18      9]\n",
            "  [446597     15      5]\n",
            "  ...\n",
            "  [  9831     15      7]\n",
            "  [335859     12     14]\n",
            "  [256812     10      3]]\n",
            "\n",
            " [[127244     60     16]\n",
            "  [ 23891     25      7]\n",
            "  [157911     60     14]\n",
            "  ...\n",
            "  [168901     25      7]\n",
            "  [392339     35     13]\n",
            "  [206732     45     10]]]\n"
          ]
        }
      ]
    }
  ]
}