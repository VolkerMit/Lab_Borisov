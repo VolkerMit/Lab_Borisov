{
  "nbformat": 4,
  "nbformat_minor": 0,
  "metadata": {
    "colab": {
      "provenance": []
    },
    "kernelspec": {
      "name": "python3",
      "display_name": "Python 3"
    },
    "language_info": {
      "name": "python"
    }
  },
  "cells": [
    {
      "cell_type": "markdown",
      "source": [
        "1. Создайте из списка в 10 элементов от 1 до 10 объект Series, выведите 5 элемент, выведите второй и третий элементы."
      ],
      "metadata": {
        "id": "CyE-H7pL8MZw"
      }
    },
    {
      "cell_type": "code",
      "source": [
        "import pandas as pd\n",
        "sr1 = pd.Series([i for i in range(1, 11)])\n",
        "print(sr1)\n",
        "print(sr1[4], sr1[1], sr1[2])"
      ],
      "metadata": {
        "colab": {
          "base_uri": "https://localhost:8080/"
        },
        "id": "F6xPunEO8SRK",
        "outputId": "e7207a64-f78c-47cc-f17e-39cae20d207e"
      },
      "execution_count": null,
      "outputs": [
        {
          "output_type": "stream",
          "name": "stdout",
          "text": [
            "0     1\n",
            "1     2\n",
            "2     3\n",
            "3     4\n",
            "4     5\n",
            "5     6\n",
            "6     7\n",
            "7     8\n",
            "8     9\n",
            "9    10\n",
            "dtype: int64\n",
            "5 2 3\n"
          ]
        }
      ]
    },
    {
      "cell_type": "markdown",
      "source": [
        "2. Создайте Series из 10 случайных чисел int и задайте индексы из любых букв алфавита (a, b, c и т.д.)\n"
      ],
      "metadata": {
        "id": "a81JRSpr9WLp"
      }
    },
    {
      "cell_type": "code",
      "source": [
        "import random\n",
        "sr2 = pd.Series([random.randint(0,100) for i in range(10)], index=[chr(random.randint(97, 122)) for _ in range(10)])\n",
        "print(sr2)"
      ],
      "metadata": {
        "colab": {
          "base_uri": "https://localhost:8080/"
        },
        "id": "BSuF3Vxv9ZkB",
        "outputId": "91143a16-2e64-40aa-90ca-99047d0be4e8"
      },
      "execution_count": null,
      "outputs": [
        {
          "output_type": "stream",
          "name": "stdout",
          "text": [
            "e    68\n",
            "f    85\n",
            "p    37\n",
            "b     2\n",
            "z    37\n",
            "g    85\n",
            "o    31\n",
            "v    64\n",
            "g    81\n",
            "p    82\n",
            "dtype: int64\n"
          ]
        }
      ]
    },
    {
      "cell_type": "markdown",
      "source": [
        "3. Создайте Series из словаря, который описывает 5 пар значений номер группы и количество студентов в группе. Выведите срез по первым трем группам.\n"
      ],
      "metadata": {
        "id": "PE9Cs7F1-QwA"
      }
    },
    {
      "cell_type": "code",
      "source": [
        "import pandas as pd\n",
        "sr3 = pd.Series({\n",
        "    \"ИД22-1\": 28,\n",
        "    \"ИД22-2\": 24,\n",
        "    \"ИД22-3\": 22,\n",
        "    \"ИД22-4\": 26,\n",
        "    \"ИД22-5\": 30\n",
        "})\n",
        "print(sr3.loc()[\"ИД22-1\":\"ИД22-3\"])"
      ],
      "metadata": {
        "colab": {
          "base_uri": "https://localhost:8080/"
        },
        "id": "Tyts62zS-XPg",
        "outputId": "a366a7b6-83da-4873-a81e-3027166f1160"
      },
      "execution_count": null,
      "outputs": [
        {
          "output_type": "stream",
          "name": "stdout",
          "text": [
            "ИД22-1    28\n",
            "ИД22-2    24\n",
            "ИД22-3    22\n",
            "dtype: int64\n"
          ]
        }
      ]
    },
    {
      "cell_type": "markdown",
      "source": [
        "4. Создайте DataFrame из двух Series, которые описывают соответственно первый - 5 групп, количество студентов в группе и второй - те же 5 групп и количество отличников в них. \n"
      ],
      "metadata": {
        "id": "kLhwwE9X_lDR"
      }
    },
    {
      "cell_type": "code",
      "source": [
        "sr4 = pd.Series({\n",
        "    \"ИД22-1\": 8,\n",
        "    \"ИД22-2\": 10,\n",
        "    \"ИД22-3\": 15,\n",
        "    \"ИД22-4\": 9,\n",
        "    \"ИД22-5\": 5\n",
        "})\n",
        "df1 = pd.DataFrame({\"students\": sr3, \"excellent students\": sr4})\n",
        "print(df1)"
      ],
      "metadata": {
        "colab": {
          "base_uri": "https://localhost:8080/"
        },
        "id": "Us5Uiztc_n6I",
        "outputId": "541aa03d-5c4b-4a9c-fdcd-2229712f4327"
      },
      "execution_count": null,
      "outputs": [
        {
          "output_type": "stream",
          "name": "stdout",
          "text": [
            "        students  excellent students\n",
            "ИД22-1        28                   8\n",
            "ИД22-2        24                  10\n",
            "ИД22-3        22                  15\n",
            "ИД22-4        26                   9\n",
            "ИД22-5        30                   5\n"
          ]
        }
      ]
    },
    {
      "cell_type": "markdown",
      "source": [
        "6. Создайте DataFrame из двумерного массива 3 на 2 случайных чисел int, индексов a, b, c и колонок one two.\n"
      ],
      "metadata": {
        "id": "NR-Kn_P4CNH0"
      }
    },
    {
      "cell_type": "code",
      "source": [
        "import numpy as np\n",
        "df2 = pd.DataFrame((np.random.randint(0,100,size=(3,2))), index=[\"a\", \"b\", \"c\"], columns=[\"one\", \"two\"])\n",
        "print(df2)"
      ],
      "metadata": {
        "colab": {
          "base_uri": "https://localhost:8080/"
        },
        "id": "SxUVZj2GCNs1",
        "outputId": "627d92f7-fcde-4a05-eb6e-81df2261ce1b"
      },
      "execution_count": null,
      "outputs": [
        {
          "output_type": "stream",
          "name": "stdout",
          "text": [
            "   one  two\n",
            "a   83   20\n",
            "b   41   59\n",
            "c   48   86\n"
          ]
        }
      ]
    },
    {
      "cell_type": "markdown",
      "source": [
        "7. В DataFrame из задания 4 добавьте стетий столбец Proportin и внесите в нее отношение отличников к общему числу студентов в группе.\n"
      ],
      "metadata": {
        "id": "Uot9R1dmFeRj"
      }
    },
    {
      "cell_type": "code",
      "source": [
        "df1[\"proportin\"] = df1[\"excellent students\"]/df1[\"students\"]\n",
        "print(df1)"
      ],
      "metadata": {
        "colab": {
          "base_uri": "https://localhost:8080/"
        },
        "id": "fqQTOSA2FeoZ",
        "outputId": "f5c8f5aa-dacd-4936-9e11-8ddfdb4a3d60"
      },
      "execution_count": null,
      "outputs": [
        {
          "output_type": "stream",
          "name": "stdout",
          "text": [
            "        students  excellent students  proportin\n",
            "ИД22-1        28                   8   0.285714\n",
            "ИД22-2        24                  10   0.416667\n",
            "ИД22-3        22                  15   0.681818\n",
            "ИД22-4        26                   9   0.346154\n",
            "ИД22-5        30                   5   0.166667\n"
          ]
        }
      ]
    },
    {
      "cell_type": "markdown",
      "source": [
        "8. Используя DataFrame из задания 7 выведите срез первых двух столбцов и первых трех групп с помощью неявной индексации.\n"
      ],
      "metadata": {
        "id": "FfEsHwk1F-md"
      }
    },
    {
      "cell_type": "code",
      "source": [
        "print(df1.iloc[0:3, 0:2])"
      ],
      "metadata": {
        "colab": {
          "base_uri": "https://localhost:8080/"
        },
        "id": "J0hH5hwyGBfj",
        "outputId": "d5c90e31-6c70-4381-fd8d-57ea773b6303"
      },
      "execution_count": null,
      "outputs": [
        {
          "output_type": "stream",
          "name": "stdout",
          "text": [
            "        students  excellent students\n",
            "ИД22-1        28                   8\n",
            "ИД22-2        24                  10\n",
            "ИД22-3        22                  15\n"
          ]
        }
      ]
    },
    {
      "cell_type": "markdown",
      "source": [
        "9. Используя DataFrame из задания 7 выведите срез первых двух столбцов и первых трех строк с помощью явной индексации.\n"
      ],
      "metadata": {
        "id": "H93m25AWJ_1F"
      }
    },
    {
      "cell_type": "code",
      "source": [
        "print(df1.loc[\"ИД22-1\":\"ИД22-3\", \"students\":\"excellent students\"])"
      ],
      "metadata": {
        "colab": {
          "base_uri": "https://localhost:8080/"
        },
        "id": "MxzrUoJpKCiH",
        "outputId": "fdbe81a1-630a-43f0-a0c1-fd9bfef05d7e"
      },
      "execution_count": null,
      "outputs": [
        {
          "output_type": "stream",
          "name": "stdout",
          "text": [
            "        students  excellent students\n",
            "ИД22-1        28                   8\n",
            "ИД22-2        24                  10\n",
            "ИД22-3        22                  15\n"
          ]
        }
      ]
    },
    {
      "cell_type": "markdown",
      "source": [
        "10. Используя DataFrame из задания 7 выведите все группы, в которых количество студентов больше 25, должны быть выведены также данные по  столбцам Excellent student и Proportin."
      ],
      "metadata": {
        "id": "cBJq99VlKgiI"
      }
    },
    {
      "cell_type": "code",
      "source": [
        "print(df1.loc[df1.students > 25])\n"
      ],
      "metadata": {
        "id": "heJ7wtEBKkYE",
        "colab": {
          "base_uri": "https://localhost:8080/"
        },
        "outputId": "2c1c593e-4d40-4952-c6df-2e67704e9ee5"
      },
      "execution_count": null,
      "outputs": [
        {
          "output_type": "stream",
          "name": "stdout",
          "text": [
            "        students  excellent students  proportin\n",
            "ИД22-1        28                   8   0.285714\n",
            "ИД22-4        26                   9   0.346154\n",
            "ИД22-5        30                   5   0.166667\n"
          ]
        }
      ]
    }
  ]
}