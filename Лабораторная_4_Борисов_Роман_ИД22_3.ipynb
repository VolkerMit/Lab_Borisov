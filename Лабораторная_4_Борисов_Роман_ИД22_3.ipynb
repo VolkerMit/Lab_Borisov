{
  "cells": [
    {
      "cell_type": "markdown",
      "metadata": {
        "id": "5W-h_flkDCMe"
      },
      "source": [
        "# Работа с Excel"
      ]
    },
    {
      "cell_type": "markdown",
      "metadata": {
        "id": "FkttmET8DCMh"
      },
      "source": [
        "## Задачи для совместного разбора"
      ]
    },
    {
      "cell_type": "markdown",
      "metadata": {
        "id": "kzUF-_KDDCMi"
      },
      "source": [
        "1. На листе \"Рецептура\" файла `себестоимостьА_в1.xlsx` для области \"Пшеничный хлеб\" рассчитать себестоимость всех видов продукции."
      ]
    },
    {
      "cell_type": "code",
      "execution_count": null,
      "metadata": {
        "id": "rl6RMT5HDCMi",
        "outputId": "b1f0f310-91c1-4951-e260-b063463d17bd"
      },
      "outputs": [
        {
          "name": "stdout",
          "output_type": "stream",
          "text": [
            "Себестоимость хлеба Венгерский: 21.48\n",
            "Себестоимость хлеба Барбари: 28.72\n",
            "Себестоимость хлеба парижский: 21.816\n",
            "Себестоимость хлеба Чиабатта: 5.615\n"
          ]
        }
      ],
      "source": [
        "import openpyxl\n",
        "\n",
        "bread = openpyxl.open(\"себестоимостьА_в1.xlsx\")\n",
        "sheet = bread.active\n",
        "\n",
        "prices = [sheet[14][col].value for col in range(6, 15)]\n",
        "\n",
        "hungarian_ingr = [sheet[7][column].value for column in range(6, 15) if sheet[7][column].value]\n",
        "bread1 = [i * j for i, j in zip(prices, hungarian_ingr)]\n",
        "\n",
        "barbary_ingr = [sheet[8][column].value for column in range(6, 15) if sheet[8][column].value]\n",
        "bread2 = [i * j for i, j in zip(prices, barbary_ingr)]\n",
        "\n",
        "paris_ingr = [sheet[9][column].value for column in range(6, 15) if sheet[9][column].value]\n",
        "bread3 = [i * j for i, j in zip(prices, paris_ingr)]\n",
        "\n",
        "ciabatta = [sheet[10][column].value for column in range(6, 15) if sheet[10][column].value]\n",
        "bread4 = [i * j for i, j in zip(prices, ciabatta)]\n",
        "\n",
        "print(f'Себестоимость хлеба Венгерский: {sum(bread1)}\\nСебестоимость хлеба Барбари: {sum(bread2):.2f}\\nСебестоимость хлеба парижский: {sum(bread3)}\\nСебестоимость хлеба Чиабатта: {sum(bread4)}')"
      ]
    },
    {
      "cell_type": "markdown",
      "metadata": {
        "id": "oEAXLp6HDCMl"
      },
      "source": [
        "2. Результаты расчетов 1.1 сохранить в отдельном столбце области \"Пшеничный хлеб\""
      ]
    },
    {
      "cell_type": "code",
      "execution_count": null,
      "metadata": {
        "id": "bJqHKBbHDCMl"
      },
      "outputs": [],
      "source": [
        "import xlwings as xw\n",
        "book = xw.Book('себестоимостьА_в1.xlsx')\n",
        "sheet_bread = book.sheets['Рецептура']\n",
        "sheet_bread.range('P6').value = 'Себестоимости хлеба'\n",
        "sheet_bread.range('P7:P10').options(transpose = True).value = sum(bread1), sum(bread2), sum(bread3), sum(bread4)"
      ]
    },
    {
      "cell_type": "markdown",
      "metadata": {
        "id": "Lhj2wmDjDCMm"
      },
      "source": [
        "![Screenshot_1.png](attachment:Screenshot_1.png)"
      ]
    },
    {
      "cell_type": "markdown",
      "metadata": {
        "id": "l5ZTW-PgDCMm"
      },
      "source": [
        "3. Приблизить форматирование столбца, добавленного в задаче 2 к оформлению всей области."
      ]
    },
    {
      "cell_type": "code",
      "execution_count": null,
      "metadata": {
        "id": "DSVPdSRpDCMm"
      },
      "outputs": [],
      "source": [
        "for ws in book.sheets:\n",
        "        ws.autofit(axis=\"columns\")"
      ]
    },
    {
      "cell_type": "markdown",
      "metadata": {
        "id": "hCSm5HhQDCMn"
      },
      "source": [
        "4. Выполнить 3 с помощью \"протягиваемых\" формул."
      ]
    },
    {
      "cell_type": "code",
      "execution_count": null,
      "metadata": {
        "id": "S-_eVt8_DCMn"
      },
      "outputs": [],
      "source": [
        "1"
      ]
    },
    {
      "cell_type": "markdown",
      "metadata": {
        "id": "Lq0MCrIvDCMn"
      },
      "source": [
        "## Лабораторная работа 7.1"
      ]
    },
    {
      "cell_type": "markdown",
      "metadata": {
        "id": "Vofw8SKyDCMn"
      },
      "source": [
        "1. Загрузите данные из файлов `reviews_sample.csv` (__ЛР2__) и `recipes_sample.csv` (__ЛР5__) в виде `pd.DataFrame`. Обратите внимание на корректное считывание столбца(ов) с индексами. Оставьте в таблице с рецептами следующие столбцы: `id`, `name`, `minutes`, `submitted`, `description`, `n_ingredients`"
      ]
    },
    {
      "cell_type": "code",
      "execution_count": null,
      "metadata": {
        "id": "UkiM9Y9hDCMn",
        "outputId": "e996801b-49ae-4649-90bd-53f0e6cdf67c"
      },
      "outputs": [
        {
          "data": {
            "text/html": [
              "<div>\n",
              "<style scoped>\n",
              "    .dataframe tbody tr th:only-of-type {\n",
              "        vertical-align: middle;\n",
              "    }\n",
              "\n",
              "    .dataframe tbody tr th {\n",
              "        vertical-align: top;\n",
              "    }\n",
              "\n",
              "    .dataframe thead th {\n",
              "        text-align: right;\n",
              "    }\n",
              "</style>\n",
              "<table border=\"1\" class=\"dataframe\">\n",
              "  <thead>\n",
              "    <tr style=\"text-align: right;\">\n",
              "      <th></th>\n",
              "      <th>name</th>\n",
              "      <th>id</th>\n",
              "      <th>minutes</th>\n",
              "      <th>submitted</th>\n",
              "      <th>description</th>\n",
              "      <th>n_ingredients</th>\n",
              "    </tr>\n",
              "  </thead>\n",
              "  <tbody>\n",
              "    <tr>\n",
              "      <th>0</th>\n",
              "      <td>george s at the cove  black bean soup</td>\n",
              "      <td>44123</td>\n",
              "      <td>90</td>\n",
              "      <td>2002-10-25</td>\n",
              "      <td>an original recipe created by chef scott meska...</td>\n",
              "      <td>18.0</td>\n",
              "    </tr>\n",
              "    <tr>\n",
              "      <th>1</th>\n",
              "      <td>healthy for them  yogurt popsicles</td>\n",
              "      <td>67664</td>\n",
              "      <td>10</td>\n",
              "      <td>2003-07-26</td>\n",
              "      <td>my children and their friends ask for my homem...</td>\n",
              "      <td>NaN</td>\n",
              "    </tr>\n",
              "    <tr>\n",
              "      <th>2</th>\n",
              "      <td>i can t believe it s spinach</td>\n",
              "      <td>38798</td>\n",
              "      <td>30</td>\n",
              "      <td>2002-08-29</td>\n",
              "      <td>these were so go, it surprised even me.</td>\n",
              "      <td>8.0</td>\n",
              "    </tr>\n",
              "    <tr>\n",
              "      <th>3</th>\n",
              "      <td>italian  gut busters</td>\n",
              "      <td>35173</td>\n",
              "      <td>45</td>\n",
              "      <td>2002-07-27</td>\n",
              "      <td>my sister-in-law made these for us at a family...</td>\n",
              "      <td>NaN</td>\n",
              "    </tr>\n",
              "    <tr>\n",
              "      <th>4</th>\n",
              "      <td>love is in the air  beef fondue   sauces</td>\n",
              "      <td>84797</td>\n",
              "      <td>25</td>\n",
              "      <td>2004-02-23</td>\n",
              "      <td>i think a fondue is a very romantic casual din...</td>\n",
              "      <td>NaN</td>\n",
              "    </tr>\n",
              "    <tr>\n",
              "      <th>...</th>\n",
              "      <td>...</td>\n",
              "      <td>...</td>\n",
              "      <td>...</td>\n",
              "      <td>...</td>\n",
              "      <td>...</td>\n",
              "      <td>...</td>\n",
              "    </tr>\n",
              "    <tr>\n",
              "      <th>29995</th>\n",
              "      <td>zurie s holey rustic olive and cheddar bread</td>\n",
              "      <td>267661</td>\n",
              "      <td>80</td>\n",
              "      <td>2007-11-25</td>\n",
              "      <td>this is based on a french recipe but i changed...</td>\n",
              "      <td>10.0</td>\n",
              "    </tr>\n",
              "    <tr>\n",
              "      <th>29996</th>\n",
              "      <td>zwetschgenkuchen  bavarian plum cake</td>\n",
              "      <td>386977</td>\n",
              "      <td>240</td>\n",
              "      <td>2009-08-24</td>\n",
              "      <td>this is a traditional fresh plum cake, thought...</td>\n",
              "      <td>11.0</td>\n",
              "    </tr>\n",
              "    <tr>\n",
              "      <th>29997</th>\n",
              "      <td>zwiebelkuchen   southwest german onion cake</td>\n",
              "      <td>103312</td>\n",
              "      <td>75</td>\n",
              "      <td>2004-11-03</td>\n",
              "      <td>this is a traditional late summer early fall s...</td>\n",
              "      <td>NaN</td>\n",
              "    </tr>\n",
              "    <tr>\n",
              "      <th>29998</th>\n",
              "      <td>zydeco soup</td>\n",
              "      <td>486161</td>\n",
              "      <td>60</td>\n",
              "      <td>2012-08-29</td>\n",
              "      <td>this is a delicious soup that i originally fou...</td>\n",
              "      <td>NaN</td>\n",
              "    </tr>\n",
              "    <tr>\n",
              "      <th>29999</th>\n",
              "      <td>cookies by design   cookies on a stick</td>\n",
              "      <td>298512</td>\n",
              "      <td>29</td>\n",
              "      <td>2008-04-15</td>\n",
              "      <td>i've heard of the 'cookies by design' company,...</td>\n",
              "      <td>10.0</td>\n",
              "    </tr>\n",
              "  </tbody>\n",
              "</table>\n",
              "<p>30000 rows × 6 columns</p>\n",
              "</div>"
            ],
            "text/plain": [
              "                                               name      id  minutes  \\\n",
              "0             george s at the cove  black bean soup   44123       90   \n",
              "1                healthy for them  yogurt popsicles   67664       10   \n",
              "2                      i can t believe it s spinach   38798       30   \n",
              "3                              italian  gut busters   35173       45   \n",
              "4          love is in the air  beef fondue   sauces   84797       25   \n",
              "...                                             ...     ...      ...   \n",
              "29995  zurie s holey rustic olive and cheddar bread  267661       80   \n",
              "29996          zwetschgenkuchen  bavarian plum cake  386977      240   \n",
              "29997   zwiebelkuchen   southwest german onion cake  103312       75   \n",
              "29998                                   zydeco soup  486161       60   \n",
              "29999        cookies by design   cookies on a stick  298512       29   \n",
              "\n",
              "        submitted                                        description  \\\n",
              "0      2002-10-25  an original recipe created by chef scott meska...   \n",
              "1      2003-07-26  my children and their friends ask for my homem...   \n",
              "2      2002-08-29            these were so go, it surprised even me.   \n",
              "3      2002-07-27  my sister-in-law made these for us at a family...   \n",
              "4      2004-02-23  i think a fondue is a very romantic casual din...   \n",
              "...           ...                                                ...   \n",
              "29995  2007-11-25  this is based on a french recipe but i changed...   \n",
              "29996  2009-08-24  this is a traditional fresh plum cake, thought...   \n",
              "29997  2004-11-03  this is a traditional late summer early fall s...   \n",
              "29998  2012-08-29  this is a delicious soup that i originally fou...   \n",
              "29999  2008-04-15  i've heard of the 'cookies by design' company,...   \n",
              "\n",
              "       n_ingredients  \n",
              "0               18.0  \n",
              "1                NaN  \n",
              "2                8.0  \n",
              "3                NaN  \n",
              "4                NaN  \n",
              "...              ...  \n",
              "29995           10.0  \n",
              "29996           11.0  \n",
              "29997            NaN  \n",
              "29998            NaN  \n",
              "29999           10.0  \n",
              "\n",
              "[30000 rows x 6 columns]"
            ]
          },
          "execution_count": 1,
          "metadata": {},
          "output_type": "execute_result"
        }
      ],
      "source": [
        "import pandas as pd\n",
        "reviews = pd.read_csv('reviews_sample.csv', index_col=0)\n",
        "recipes = pd.read_csv('recipes_sample.csv', usecols= ['id', 'name', 'minutes', 'submitted', 'description', 'n_ingredients'])\n",
        "recipes"
      ]
    },
    {
      "cell_type": "code",
      "execution_count": null,
      "metadata": {
        "id": "Rol91x8TDCMo",
        "outputId": "0f18e62d-dc8b-469e-c616-3a71b4593264"
      },
      "outputs": [
        {
          "data": {
            "text/html": [
              "<div>\n",
              "<style scoped>\n",
              "    .dataframe tbody tr th:only-of-type {\n",
              "        vertical-align: middle;\n",
              "    }\n",
              "\n",
              "    .dataframe tbody tr th {\n",
              "        vertical-align: top;\n",
              "    }\n",
              "\n",
              "    .dataframe thead th {\n",
              "        text-align: right;\n",
              "    }\n",
              "</style>\n",
              "<table border=\"1\" class=\"dataframe\">\n",
              "  <thead>\n",
              "    <tr style=\"text-align: right;\">\n",
              "      <th></th>\n",
              "      <th>user_id</th>\n",
              "      <th>recipe_id</th>\n",
              "      <th>date</th>\n",
              "      <th>rating</th>\n",
              "      <th>review</th>\n",
              "    </tr>\n",
              "  </thead>\n",
              "  <tbody>\n",
              "    <tr>\n",
              "      <th>370476</th>\n",
              "      <td>21752</td>\n",
              "      <td>57993</td>\n",
              "      <td>2003-05-01</td>\n",
              "      <td>5</td>\n",
              "      <td>Last week whole sides of frozen salmon fillet ...</td>\n",
              "    </tr>\n",
              "    <tr>\n",
              "      <th>624300</th>\n",
              "      <td>431813</td>\n",
              "      <td>142201</td>\n",
              "      <td>2007-09-16</td>\n",
              "      <td>5</td>\n",
              "      <td>So simple and so tasty!  I used a yellow capsi...</td>\n",
              "    </tr>\n",
              "    <tr>\n",
              "      <th>187037</th>\n",
              "      <td>400708</td>\n",
              "      <td>252013</td>\n",
              "      <td>2008-01-10</td>\n",
              "      <td>4</td>\n",
              "      <td>Very nice breakfast HH, easy to make and yummy...</td>\n",
              "    </tr>\n",
              "    <tr>\n",
              "      <th>706134</th>\n",
              "      <td>2001852463</td>\n",
              "      <td>404716</td>\n",
              "      <td>2017-12-11</td>\n",
              "      <td>5</td>\n",
              "      <td>These are a favorite for the holidays and so e...</td>\n",
              "    </tr>\n",
              "    <tr>\n",
              "      <th>312179</th>\n",
              "      <td>95810</td>\n",
              "      <td>129396</td>\n",
              "      <td>2008-03-14</td>\n",
              "      <td>5</td>\n",
              "      <td>Excellent soup!  The tomato flavor is just gre...</td>\n",
              "    </tr>\n",
              "    <tr>\n",
              "      <th>...</th>\n",
              "      <td>...</td>\n",
              "      <td>...</td>\n",
              "      <td>...</td>\n",
              "      <td>...</td>\n",
              "      <td>...</td>\n",
              "    </tr>\n",
              "    <tr>\n",
              "      <th>1013457</th>\n",
              "      <td>1270706</td>\n",
              "      <td>335534</td>\n",
              "      <td>2009-05-17</td>\n",
              "      <td>4</td>\n",
              "      <td>This recipe was great! I made it last night. I...</td>\n",
              "    </tr>\n",
              "    <tr>\n",
              "      <th>158736</th>\n",
              "      <td>2282344</td>\n",
              "      <td>8701</td>\n",
              "      <td>2012-06-03</td>\n",
              "      <td>0</td>\n",
              "      <td>This recipe is outstanding. I followed the rec...</td>\n",
              "    </tr>\n",
              "    <tr>\n",
              "      <th>1059834</th>\n",
              "      <td>689540</td>\n",
              "      <td>222001</td>\n",
              "      <td>2008-04-08</td>\n",
              "      <td>5</td>\n",
              "      <td>Well, we were not a crowd but it was a fabulou...</td>\n",
              "    </tr>\n",
              "    <tr>\n",
              "      <th>453285</th>\n",
              "      <td>2000242659</td>\n",
              "      <td>354979</td>\n",
              "      <td>2015-06-02</td>\n",
              "      <td>5</td>\n",
              "      <td>I have been a steak eater and dedicated BBQ gr...</td>\n",
              "    </tr>\n",
              "    <tr>\n",
              "      <th>691207</th>\n",
              "      <td>463435</td>\n",
              "      <td>415599</td>\n",
              "      <td>2010-09-30</td>\n",
              "      <td>5</td>\n",
              "      <td>Wonderful and simple to prepare seasoning blen...</td>\n",
              "    </tr>\n",
              "  </tbody>\n",
              "</table>\n",
              "<p>126696 rows × 5 columns</p>\n",
              "</div>"
            ],
            "text/plain": [
              "            user_id  recipe_id        date  rating  \\\n",
              "370476        21752      57993  2003-05-01       5   \n",
              "624300       431813     142201  2007-09-16       5   \n",
              "187037       400708     252013  2008-01-10       4   \n",
              "706134   2001852463     404716  2017-12-11       5   \n",
              "312179        95810     129396  2008-03-14       5   \n",
              "...             ...        ...         ...     ...   \n",
              "1013457     1270706     335534  2009-05-17       4   \n",
              "158736      2282344       8701  2012-06-03       0   \n",
              "1059834      689540     222001  2008-04-08       5   \n",
              "453285   2000242659     354979  2015-06-02       5   \n",
              "691207       463435     415599  2010-09-30       5   \n",
              "\n",
              "                                                    review  \n",
              "370476   Last week whole sides of frozen salmon fillet ...  \n",
              "624300   So simple and so tasty!  I used a yellow capsi...  \n",
              "187037   Very nice breakfast HH, easy to make and yummy...  \n",
              "706134   These are a favorite for the holidays and so e...  \n",
              "312179   Excellent soup!  The tomato flavor is just gre...  \n",
              "...                                                    ...  \n",
              "1013457  This recipe was great! I made it last night. I...  \n",
              "158736   This recipe is outstanding. I followed the rec...  \n",
              "1059834  Well, we were not a crowd but it was a fabulou...  \n",
              "453285   I have been a steak eater and dedicated BBQ gr...  \n",
              "691207   Wonderful and simple to prepare seasoning blen...  \n",
              "\n",
              "[126696 rows x 5 columns]"
            ]
          },
          "execution_count": 51,
          "metadata": {},
          "output_type": "execute_result"
        }
      ],
      "source": [
        "reviews"
      ]
    },
    {
      "cell_type": "markdown",
      "metadata": {
        "id": "IVlEziVPDCMo"
      },
      "source": [
        "2. Случайным образом выберите 5% строк из каждой таблицы и сохраните две таблицы на разные листы в один файл `recipes.xlsx`. Дайте листам названия \"Рецепты\" и \"Отзывы\", соответствующие содержанию таблиц. "
      ]
    },
    {
      "cell_type": "code",
      "execution_count": null,
      "metadata": {
        "id": "lS2BE0jaDCMo"
      },
      "outputs": [],
      "source": [
        "rand_reviews = reviews.sample(frac=0.05)\n",
        "rand_recipes = recipes.sample(frac=0.05)\n",
        "\n",
        "with pd.ExcelWriter('recipes.xlsx', mode='w') as file:\n",
        "    rand_recipes.to_excel(file, sheet_name='Рецепты')\n",
        "    rand_reviews.to_excel(file, sheet_name='Отзывы')"
      ]
    },
    {
      "cell_type": "markdown",
      "metadata": {
        "id": "S7QKpPHXDCMp"
      },
      "source": [
        "3. Используя `xlwings`, добавьте на лист `Рецепты` столбец `seconds_assign`, показывающий время выполнения рецепта в секундах. Выполните задание при помощи присваивания массива значений диапазону ячеек."
      ]
    },
    {
      "cell_type": "code",
      "execution_count": null,
      "metadata": {
        "id": "DHLAeQrJDCMp"
      },
      "outputs": [],
      "source": [
        "import xlwings as xw\n",
        "seconds_assign = recipes['minutes'] * 60 #Переводим минуты в секунды\n",
        "\n",
        "excel_book = xw.Book('recipes.xlsx')\n",
        "\n",
        "sheet_recipes = excel_book.sheets['Рецепты']\n",
        "sheet_recipes.range('H2').options(transpose = True).value = list(seconds_assign) #Добавляет все значенив по вертикали \n",
        "#При transpose = False добавляет значения по горизонтали"
      ]
    },
    {
      "cell_type": "markdown",
      "metadata": {
        "id": "ooeaETn6DCMp"
      },
      "source": [
        "4. Используя `xlwings`, добавьте на лист `Рецепты` столбец `seconds_formula`, показывающий время выполнения рецепта в секундах. Выполните задание при помощи формул Excel."
      ]
    },
    {
      "cell_type": "code",
      "execution_count": null,
      "metadata": {
        "id": "5UJwwEe-DCMp"
      },
      "outputs": [],
      "source": [
        "for i in range(2, len(seconds_assign)+2):\n",
        "    sheet_recipes.range('I'+str(i)).formula = '=H' + str(i)"
      ]
    },
    {
      "cell_type": "markdown",
      "metadata": {
        "id": "cx99WEdnDCMp"
      },
      "source": [
        "5. Сделайте названия всех добавленных столбцов полужирными и выровняйте по центру ячейки."
      ]
    },
    {
      "cell_type": "code",
      "execution_count": null,
      "metadata": {
        "id": "nx6_ALTODCMq"
      },
      "outputs": [],
      "source": [
        "sheet_recipes.range('H1:I1').value = 'Seconds'\n",
        "sheet_recipes.range('H1:I1').api.Font.Bold = True #Включает жирность текста\n",
        "sheet_recipes.range('H1:I1').api.HorizontalAlignment = xw.constants.HAlign.xlHAlignCenter #Выравнивает по центру"
      ]
    },
    {
      "cell_type": "markdown",
      "metadata": {
        "id": "SYi80INNDCMq"
      },
      "source": [
        "6. Раскрасьте ячейки столбца `minutes` в соответствии со следующим правилом: если рецепт выполняется быстрее 5 минут, то цвет - зеленый; от 5 до 10 минут - жёлтый; и больше 10 - красный."
      ]
    },
    {
      "cell_type": "code",
      "execution_count": null,
      "metadata": {
        "id": "c2Ym27s9DCMq"
      },
      "outputs": [],
      "source": [
        "for i in range(2, 1502):\n",
        "    if int(sheet_recipes.range(f'D{i}').value) < 5:\n",
        "        sheet_recipes.range(f'D{i}').color = (0, 128, 0) #Зеленый. Цвет закодирован в RGB коде\n",
        "    elif int(sheet_recipes.range('D'+str(i)).value) >= 5 and int(sheet_recipes.range('D'+str(i)).value) <= 10:\n",
        "        sheet_recipes.range(f'D{i}').color = (255, 255, 0) #Желтый\n",
        "    elif int(sheet_recipes.range(f'D{i}').value) > 10:\n",
        "        sheet_recipes.range(f'D{i}').color = (255, 0, 0) #Красный"
      ]
    },
    {
      "cell_type": "markdown",
      "metadata": {
        "id": "VP6JyVSpDCMq"
      },
      "source": [
        "7. Добавьте на лист `Рецепты`  столбец `n_reviews`, содержащий кол-во отзывов для этого рецепта. Выполните задание при помощи формул Excel."
      ]
    },
    {
      "cell_type": "code",
      "execution_count": null,
      "metadata": {
        "id": "l86DBCGfDCMr"
      },
      "outputs": [],
      "source": [
        "sheet_recipes.range('J2:J1501').formula = '=COUNTIF(Отзывы!$C$2:$C$6336, C2)'"
      ]
    },
    {
      "cell_type": "markdown",
      "metadata": {
        "id": "GhyX4Vt8DCMr"
      },
      "source": [
        "## Лабораторная работа 7.2"
      ]
    },
    {
      "cell_type": "markdown",
      "metadata": {
        "id": "MSQP-C4EDCMr"
      },
      "source": [
        "8. Напишите функцию `validate()`, которая проверяет соответствие всех строк из листа `Отзывы` следующим правилам:\n",
        "    * Рейтинг - это число от 0 до 5 включительно\n",
        "    * Соответствующий рецепт имеется на листе `Рецепты`\n",
        "    \n",
        "В случае несоответствия этим правилам, выделите строку красным цветом"
      ]
    },
    {
      "cell_type": "code",
      "execution_count": null,
      "metadata": {
        "id": "8PC0Yu_gDCMs"
      },
      "outputs": [],
      "source": [
        "import xlwings as xw\n",
        "\n",
        "sheet_reviews = excel_book.sheets['Отзывы']\n",
        "\n",
        "def validate(line_rat, line_res):\n",
        "    if (sheet_reviews.range(line_rat).value in [0, 1, 2, 3, 4, 5]) and (sheet_reviews.range(line_res).value in sheet_recipes.range('C2:C1501').value):\n",
        "        print('Соответствие верно')\n",
        "    else:\n",
        "        sheet_reviews.range('A'+str(line_rat[1])+':F'+str(line_rat[1])).fill = PatternFill('solid', fgColor = 'ff0000')\n",
        "        \n",
        "        \n",
        "for i in range(2, 6338):\n",
        "    validate('E'+str(i), 'C'+str(i))"
      ]
    },
    {
      "cell_type": "markdown",
      "metadata": {
        "id": "lavS1FmfDCMs"
      },
      "source": [
        "9. В файле `recipes_model.csv` находится модель данных предметной области \"рецепты\". При помощи пакета `csv` считайте эти данные. При помощи пакета `xlwings` запишите данные на лист `Модель` книги `recipes_model.xlsx`, начиная с ячейки `A2`, не используя циклы. Сделайте скриншот текущего состояния листа и прикрепите в ячейку ноутбука. "
      ]
    },
    {
      "cell_type": "code",
      "execution_count": null,
      "metadata": {
        "id": "K3Bfhd6XDCMs"
      },
      "outputs": [],
      "source": [
        "import csv\n",
        "\n",
        "with open('recipes_model.csv', 'r', encoding='utf-8') as file:\n",
        "    reader = csv.reader(file, delimiter = '\\t')\n",
        "    data = list(reader)\n",
        "    \n",
        "wb = xw.Book()\n",
        "sheet = wb.sheets.add('Модель')\n",
        "\n",
        "sheet.range('A2').value = data\n",
        "\n",
        "wb.save('recipes_model1.xlsx')\n",
        "wb.close()"
      ]
    },
    {
      "cell_type": "markdown",
      "metadata": {
        "id": "0OK-RH9vDCMt"
      },
      "source": [
        "![Screenshot_2.png](attachment:Screenshot_2.png)"
      ]
    },
    {
      "cell_type": "markdown",
      "metadata": {
        "id": "ia0pjhn1DCMt"
      },
      "source": [
        "10. При помощи пакета `xlwings` добавьте в столбец J формулу для описания столбца на языке SQL. Формула должна реализовывать следующую логику:\n",
        "\n",
        "    1\\. в начале строки идут значения из столбцов В и C (значение столбца С приведено к верхнему регистру), разделенные пробелом\n",
        "    \n",
        "    2\\. далее идут слова на основе столбца \"Ключ\"\n",
        "        2.1 если в столбце \"Ключ\" указано значение \"PK\", то дальше через пробел идет ключевое слово \"PRIMARY KEY\"\n",
        "        2.2 если в столбце \"Ключ\" указано значение \"FK\", то дальше через пробел идет ключевое слово \"REFERENCES\", затем значения столбцов H и I в формате \"название_таблицы(название_столбца)\"\n",
        "        \n",
        "    3\\. если в столбце \"Обязательно к заполнению\" указано значение \"Y\" и в столбце \"Ключ\" указано не \"PK\", то дальше через пробел идет ключевое слово \"NOT NULL\".\n",
        "\n",
        "Заполните этой формулой необходимое количество строк, используя \"протягивание\". Количество строк для протягивания определите на основе данных.\n",
        "\n",
        "Сделайте скриншот текущего состояния листа и прикрепите в ячейку ноутбука."
      ]
    },
    {
      "cell_type": "code",
      "execution_count": null,
      "metadata": {
        "id": "SAyse-ZUDCMt"
      },
      "outputs": [],
      "source": [
        "wb = xw.Book('recipes_model1.xlsx')\n",
        "sheet = wb.sheets['Модель']\n",
        "\n",
        "# Определяем количество строк, начиная со второй строки\n",
        "n_rows = sheet.range('A2').current_region.last_cell.row - 1\n",
        "\n",
        "# Протягиваем формулу по столбцу J\n",
        "for i in range(2, n_rows+2):\n",
        "    # Получаем значения из столбцов B, C, H и I\n",
        "    b_val = sheet.range(f'B{i}').value\n",
        "    c_val = sheet.range(f'C{i}').value.upper()\n",
        "    h_val = sheet.range(f'H{i}').value\n",
        "    i_val = sheet.range(f'I{i}').value\n",
        "    \n",
        "    # Формируем строку на основе столбцов B, C и Ключ\n",
        "    j_val = f'{b_val} {c_val}'\n",
        "    key_val = sheet.range(f'F{i}').value\n",
        "    if key_val == 'PK':\n",
        "        j_val += ' PRIMARY KEY'\n",
        "    elif key_val == 'FK':\n",
        "        j_val += f' REFERENCES {h_val}({i_val})'\n",
        "        \n",
        "    # Добавляем ключевое слово \"NOT NULL\", если столбец обязателен к заполнению\n",
        "    required_val = sheet.range(f'D{i}').value\n",
        "    if required_val == 'Y' and key_val != 'PK':\n",
        "        j_val += ' NOT NULL'\n",
        "    \n",
        "    # Записываем полученное значение в столбец J\n",
        "    sheet.range(f'J{i}').value = j_val\n",
        "    \n",
        "wb.save('recipes_model.xlsx')\n",
        "wb.close()"
      ]
    },
    {
      "cell_type": "markdown",
      "metadata": {
        "id": "QMIa7dX8DCMu"
      },
      "source": [
        "![Screenshot_3.png](attachment:Screenshot_3.png)"
      ]
    },
    {
      "cell_type": "markdown",
      "metadata": {
        "id": "uTJk12pXDCMu"
      },
      "source": [
        "11. При помощи пакета `xlwings` измените стилизацию листа `Модель`.\n",
        "* для заголовков добавьте заливку цвета `00ccff`\n",
        "* примените автоподбор ширины столбца;\n",
        "* сделайте шрифт заголовков полужирным;\n",
        "* добавьте таблице автофильтр.\n",
        "\n",
        "Сделайте скриншот текущего состояния листа и прикрепите в ячейку ноутбука."
      ]
    },
    {
      "cell_type": "code",
      "execution_count": null,
      "metadata": {
        "id": "5imup1AnDCMu"
      },
      "outputs": [],
      "source": [
        "wb = xw.Book('recipes_model1.xlsx')\n",
        "sht = wb.sheets['Модель']\n",
        "\n",
        "# Устанавливаем цвет заливки для заголовков\n",
        "sht.range('A2:J2').color = (0, 204, 255) #переводим 00ccff в RGB код (0, 204, 255)\n",
        "\n",
        "# Применяем автоподбор ширины столбца\n",
        "sht.autofit('c')\n",
        "\n",
        "# Делаем шрифт заголовков полужирным\n",
        "sht.range('A2:J2').api.Font.Bold = True\n",
        "\n",
        "# Добавляем таблице автофильтр\n",
        "sht.range('A2:J2').api.AutoFilter()"
      ]
    },
    {
      "cell_type": "markdown",
      "metadata": {
        "id": "BWoyO7pJDCMv"
      },
      "source": [
        "![Screenshot_4.png](attachment:Screenshot_4.png)"
      ]
    },
    {
      "cell_type": "markdown",
      "metadata": {
        "id": "KN3sVNlkDCMv"
      },
      "source": [
        "12. Посчитайте количество атрибутов для каждой из сущностей. Создайте лист `Статистика` и запишите в него результат группировки, начиная с ячейки \"А1\". Визуализируйте полученный результат при помощи столбчатой диаграммы. Сохраните полученную визуализацию на лист `Статистика`, начиная с ячейки \"E2\".  Сделайте скриншот листа `Статистика` и прикрепите в ячейку ноутбука.\n",
        "\n",
        "* Вы можете воспользоваться методами для визуализации, которые поставляются вместе с объектами `pandas` (см. https://pandas.pydata.org/docs/reference/api/pandas.DataFrame.plot) "
      ]
    },
    {
      "cell_type": "code",
      "source": [
        "try:\n",
        "    wb.sheets.add('Статистика')\n",
        "except: \n",
        "    pass\n",
        "finally:\n",
        "    stats_sheet = wb.sheets['Статистика']\n",
        "model = sht1['A1:B18'].value\n",
        "model_table = pd.DataFrame(model[1:], columns = model[0])\n",
        "grouped_data= model_table.groupby('Сущность').count()\n",
        "stats_sheet['A1'].value = grouped_data\n",
        "figure = grouped_data.plot.bar().get_figure()"
      ],
      "metadata": {
        "id": "nuvKjNpYW7S6"
      },
      "execution_count": null,
      "outputs": []
    }
  ],
  "metadata": {
    "kernelspec": {
      "display_name": "Python 3 (ipykernel)",
      "language": "python",
      "name": "python3"
    },
    "language_info": {
      "codemirror_mode": {
        "name": "ipython",
        "version": 3
      },
      "file_extension": ".py",
      "mimetype": "text/x-python",
      "name": "python",
      "nbconvert_exporter": "python",
      "pygments_lexer": "ipython3",
      "version": "3.9.12"
    },
    "colab": {
      "provenance": []
    }
  },
  "nbformat": 4,
  "nbformat_minor": 0
}